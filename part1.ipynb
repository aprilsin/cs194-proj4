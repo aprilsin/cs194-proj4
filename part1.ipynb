{
 "cells": [
  {
   "cell_type": "code",
   "execution_count": null,
   "metadata": {
    "ExecuteTime": {
     "end_time": "2020-10-31T08:36:33.490411Z",
     "start_time": "2020-10-31T08:36:33.447221Z"
    }
   },
   "outputs": [],
   "source": [
    "%load_ext autoreload\n",
    "%autoreload 2"
   ]
  },
  {
   "cell_type": "code",
   "execution_count": null,
   "metadata": {
    "ExecuteTime": {
     "end_time": "2020-10-31T08:05:12.470540Z",
     "start_time": "2020-10-31T08:05:12.402833Z"
    }
   },
   "outputs": [],
   "source": [
    "from pathlib import Path\n",
    "\n",
    "import matplotlib.pyplot as plt\n",
    "import numpy as np\n",
    "import skimage.io as io\n",
    "import torch\n",
    "import torchvision.transforms as TT\n",
    "from torch.utils.data import DataLoader\n",
    "import cnn\n",
    "from data_augment import *\n",
    "from dataloader import NoseKeypointDataset\n",
    "from display import *\n",
    "from learn import test, train"
   ]
  },
  {
   "cell_type": "code",
   "execution_count": null,
   "metadata": {
    "ExecuteTime": {
     "end_time": "2020-10-31T08:21:15.643086Z",
     "start_time": "2020-10-31T08:21:15.585574Z"
    }
   },
   "outputs": [],
   "source": [
    "ROOT_DIR = Path(\"imm_face_db\")\n",
    "\n",
    "# Initialite Datasets\n",
    "\n",
    "transform = part1_augment\n",
    "# Use all 6 images of the first 32 persons (index 1-32) as the training set\n",
    "# (total 32 x 6 = 192 images)\n",
    "training_set = NoseKeypointDataset(\n",
    "    idxs=np.arange(33), root_dir=ROOT_DIR, transform=transform\n",
    ")\n",
    "assert len(training_set) == 192\n",
    "\n",
    "# Use images of the remaining 8 persons (index 33-40) as the validation set\n",
    "# (total 8 * 6 = 48 images)\n",
    "validation_set = NoseKeypointDataset(\n",
    "    idxs=np.arange(32, 40), root_dir=ROOT_DIR, transform=transform\n",
    ")\n",
    "assert len(validation_set) == 48\n",
    "\n",
    "# Initialize Dataloaders\n",
    "batch_size = 16\n",
    "train_loader = DataLoader(training_set, batch_size, shuffle=True)\n",
    "test_loader = DataLoader(validation_set, batch_size, shuffle=False)"
   ]
  },
  {
   "cell_type": "code",
   "execution_count": null,
   "metadata": {
    "ExecuteTime": {
     "end_time": "2020-10-31T08:21:42.658221Z",
     "start_time": "2020-10-31T08:21:42.427021Z"
    }
   },
   "outputs": [],
   "source": [
    "show_keypoints(training_set[2][0], training_set[2][1])"
   ]
  },
  {
   "cell_type": "code",
   "execution_count": null,
   "metadata": {
    "ExecuteTime": {
     "end_time": "2020-10-31T08:29:06.388830Z",
     "start_time": "2020-10-31T08:28:58.440742Z"
    }
   },
   "outputs": [],
   "source": [
    "# Training and Testing\n",
    "\n",
    "epochs = 20\n",
    "learn_rate = 0.001\n",
    "show_every = 3\n",
    "loss_per_epoch = []\n",
    "for ep in range(epochs):\n",
    "    print(f\"========== Epoch {ep} ==========\")\n",
    "    trained_model, train_loss = train(\n",
    "        train_loader, cnn.NoseFinder(), learn_rate\n",
    "    )\n",
    "    _, valid_loss = test(test_loader, trained_model, show_every)\n",
    "    \n",
    "    print_epoch(ep, train_loss, valid_loss)\n",
    "    loss_per_epoch.append([train_loss, valid_loss])"
   ]
  },
  {
   "cell_type": "code",
   "execution_count": null,
   "metadata": {},
   "outputs": [],
   "source": []
  }
 ],
 "metadata": {
  "kernelspec": {
   "display_name": "Python 3",
   "language": "python",
   "name": "python3"
  },
  "language_info": {
   "codemirror_mode": {
    "name": "ipython",
    "version": 3
   },
   "file_extension": ".py",
   "mimetype": "text/x-python",
   "name": "python",
   "nbconvert_exporter": "python",
   "pygments_lexer": "ipython3",
   "version": "3.8.3-final"
  },
  "toc": {
   "base_numbering": 1,
   "nav_menu": {},
   "number_sections": true,
   "sideBar": true,
   "skip_h1_title": false,
   "title_cell": "Table of Contents",
   "title_sidebar": "Contents",
   "toc_cell": false,
   "toc_position": {},
   "toc_section_display": true,
   "toc_window_display": false
  }
 },
 "nbformat": 4,
 "nbformat_minor": 4
}