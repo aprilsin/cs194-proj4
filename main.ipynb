{
 "cells": [
  {
   "cell_type": "code",
   "execution_count": 12,
   "metadata": {},
   "outputs": [],
   "source": [
    "%load_ext autoreload\n",
    "%autoreload 2"
   ]
  },
  {
   "cell_type": "code",
   "execution_count": 20,
   "metadata": {
    "ExecuteTime": {
     "end_time": "2020-11-01T03:07:20.537743Z",
     "start_time": "2020-11-01T03:07:20.501369Z"
    }
   },
   "outputs": [],
   "source": [
    "from pathlib import Path\n",
    "\n",
    "DATA_DIR = Path(\"data\")\n",
    "assert DATA_DIR.exists()\n",
    "\n",
    "DANES_ROOT = DATA_DIR / Path(\"imm_face_db\")\n",
    "IBUG_ROOT = DATA_DIR / Path(\"ibug_300W_large_face_landmark_dataset\")"
   ]
  },
  {
   "cell_type": "code",
   "execution_count": 19,
   "metadata": {
    "ExecuteTime": {
     "end_time": "2020-11-01T03:07:18.826799Z",
     "start_time": "2020-11-01T03:07:18.757633Z"
    }
   },
   "outputs": [],
   "source": [
    "%%capture\n",
    "if not IBUG_ROOT.exists():\n",
    "    !wget https://people.eecs.berkeley.edu/~zhecao/ibug_300W_large_face_landmark_dataset.zip\n",
    "    !unzip 'ibug_300W_large_face_landmark_dataset.zip'    \n",
    "    !rm -r 'ibug_300W_large_face_landmark_dataset.zip'"
   ]
  },
  {
   "cell_type": "code",
   "execution_count": null,
   "metadata": {},
   "outputs": [],
   "source": [
    "assert DANES_ROOT.exists()\n",
    "assert IBUG_ROOT.exists()"
   ]
  },
  {
   "cell_type": "markdown",
   "metadata": {},
   "source": [
    "# Part 1"
   ]
  },
  {
   "cell_type": "code",
   "execution_count": 13,
   "metadata": {},
   "outputs": [],
   "source": [
    "from pathlib import Path\n",
    "\n",
    "import matplotlib.pyplot as plt\n",
    "import numpy as np\n",
    "import skimage.io as io\n",
    "import torch\n",
    "import torchvision.transforms as TT\n",
    "from torch.utils.data import DataLoader\n",
    "\n",
    "import cnn\n",
    "from dataloader import NoseKeypointDataset, part1_augment\n",
    "from display import *\n",
    "from learn import test, train"
   ]
  },
  {
   "cell_type": "code",
   "execution_count": 21,
   "metadata": {
    "ExecuteTime": {
     "end_time": "2020-11-01T03:08:01.777064Z",
     "start_time": "2020-11-01T03:08:01.723568Z"
    }
   },
   "outputs": [],
   "source": [
    "# Initialite Datasets\n",
    "\n",
    "# Use all 6 images of the first 32 persons (index 1-32) as the training set\n",
    "# (total 32 x 6 = 192 images)\n",
    "training_set = NoseKeypointDataset(\n",
    "    idxs=np.arange(33), root_dir=DANES_ROOT, transform=part1_augment\n",
    ")\n",
    "assert len(training_set) == 192, len(training_set)\n",
    "\n",
    "# Use images of the remaining 8 persons (index 33-40) as the validation set\n",
    "# (total 8 * 6 = 48 images)\n",
    "validation_set = NoseKeypointDataset(\n",
    "    idxs=np.arange(32, 40), root_dir=DANES_ROOT, transform=part1_augment\n",
    ")\n",
    "assert len(validation_set) == 48\n",
    "\n",
    "# Initialize Dataloaders\n",
    "batch_size = 28\n",
    "train_loader = DataLoader(training_set, batch_size, shuffle=True)\n",
    "test_loader = DataLoader(validation_set, batch_size, shuffle=False)"
   ]
  },
  {
   "cell_type": "code",
   "execution_count": null,
   "metadata": {},
   "outputs": [],
   "source": [
    "show_keypoints(training_set[2][0], training_set[2][1])"
   ]
  },
  {
   "cell_type": "code",
   "execution_count": null,
   "metadata": {},
   "outputs": [],
   "source": [
    "show_keypoints(training_set[134][0], training_set[134][1])"
   ]
  },
  {
   "cell_type": "code",
   "execution_count": null,
   "metadata": {},
   "outputs": [],
   "source": [
    "# Training and Testing\n",
    "\n",
    "model = cnn.NoseFinder()\n",
    "epochs = 18\n",
    "learn_rate = 0.002\n",
    "show_every = 1\n",
    "loss_per_epoch = []\n",
    "for ep in range(epochs):\n",
    "    print(f\"========== Start Epoch {ep} ==========\")\n",
    "    trained_model, train_loss = train(\n",
    "        train_loader, model, learn_rate\n",
    "    )\n",
    "    _, valid_loss = test(test_loader, trained_model, show_every)\n",
    "    \n",
    "    print_epoch(ep, train_loss, valid_loss)\n",
    "    loss_per_epoch.append([train_loss, valid_loss])"
   ]
  },
  {
   "cell_type": "code",
   "execution_count": null,
   "metadata": {},
   "outputs": [],
   "source": [
    "# Plot training and validation loss progress\n",
    "\n",
    "loss_per_epoch = np.array(loss_per_epoch)\n",
    "show_progress(loss_per_epoch)"
   ]
  },
  {
   "cell_type": "markdown",
   "metadata": {},
   "source": [
    "# Part 2"
   ]
  },
  {
   "cell_type": "code",
   "execution_count": 22,
   "metadata": {
    "ExecuteTime": {
     "end_time": "2020-11-01T03:09:21.860116Z",
     "start_time": "2020-11-01T03:09:21.818708Z"
    }
   },
   "outputs": [
    {
     "ename": "ModuleNotFoundError",
     "evalue": "No module named 'data_augment'",
     "output_type": "error",
     "traceback": [
      "\u001b[0;31m---------------------------------------------------------------------------\u001b[0m",
      "\u001b[0;31mModuleNotFoundError\u001b[0m                       Traceback (most recent call last)",
      "\u001b[0;32m<ipython-input-22-a2557a66730e>\u001b[0m in \u001b[0;36m<module>\u001b[0;34m\u001b[0m\n\u001b[1;32m      8\u001b[0m \u001b[0;32mfrom\u001b[0m \u001b[0mtorch\u001b[0m\u001b[0;34m.\u001b[0m\u001b[0mutils\u001b[0m\u001b[0;34m.\u001b[0m\u001b[0mdata\u001b[0m \u001b[0;32mimport\u001b[0m \u001b[0mDataLoader\u001b[0m\u001b[0;34m\u001b[0m\u001b[0;34m\u001b[0m\u001b[0m\n\u001b[1;32m      9\u001b[0m \u001b[0;32mimport\u001b[0m \u001b[0mcnn\u001b[0m\u001b[0;34m\u001b[0m\u001b[0;34m\u001b[0m\u001b[0m\n\u001b[0;32m---> 10\u001b[0;31m \u001b[0;32mfrom\u001b[0m \u001b[0mdata_augment\u001b[0m \u001b[0;32mimport\u001b[0m \u001b[0;34m*\u001b[0m\u001b[0;34m\u001b[0m\u001b[0;34m\u001b[0m\u001b[0m\n\u001b[0m\u001b[1;32m     11\u001b[0m \u001b[0;32mfrom\u001b[0m \u001b[0mdataloader\u001b[0m \u001b[0;32mimport\u001b[0m \u001b[0mFaceKeypointsDataset\u001b[0m\u001b[0;34m\u001b[0m\u001b[0;34m\u001b[0m\u001b[0m\n\u001b[1;32m     12\u001b[0m \u001b[0;32mfrom\u001b[0m \u001b[0mdisplay\u001b[0m \u001b[0;32mimport\u001b[0m \u001b[0;34m*\u001b[0m\u001b[0;34m\u001b[0m\u001b[0;34m\u001b[0m\u001b[0m\n",
      "\u001b[0;31mModuleNotFoundError\u001b[0m: No module named 'data_augment'"
     ]
    }
   ],
   "source": [
    "from pathlib import Path\n",
    "\n",
    "import matplotlib.pyplot as plt\n",
    "import numpy as np\n",
    "import skimage.io as io\n",
    "import torch\n",
    "import torchvision.transforms as TT\n",
    "from torch.utils.data import DataLoader\n",
    "\n",
    "import cnn\n",
    "from dataloader import FaceKeypointsDataset\n",
    "from display import *\n",
    "from learn import test, train"
   ]
  },
  {
   "cell_type": "code",
   "execution_count": null,
   "metadata": {},
   "outputs": [],
   "source": [
    "ROOT_DIR = Path(\"imm_face_db\")\n",
    "\n",
    "# Initialite Datasets\n",
    "\n",
    "transform = part2_augment\n",
    "# Use all 6 images of the first 32 persons (index 1-32) as the training set\n",
    "# (total 32 x 6 = 192 images)\n",
    "training_set = FaceKeypointsDataset(\n",
    "    idxs=np.arange(33), root_dir=ROOT_DIR, transform=transform\n",
    ")\n",
    "assert len(training_set) == 192\n",
    "\n",
    "# Use images of the remaining 8 persons (index 33-40) as the validation set\n",
    "# (total 8 * 6 = 48 images)\n",
    "validation_set = FaceKeypointsDataset(\n",
    "    idxs=np.arange(32, 40), root_dir=ROOT_DIR, transform=transform\n",
    ")\n",
    "assert len(validation_set) == 48\n",
    "\n",
    "# Initialize Dataloaders\n",
    "batch_size = 25\n",
    "train_loader = DataLoader(training_set, batch_size, shuffle=True)\n",
    "test_loader = DataLoader(validation_set, batch_size, shuffle=False)"
   ]
  },
  {
   "cell_type": "code",
   "execution_count": null,
   "metadata": {},
   "outputs": [],
   "source": [
    "# Plotting a few input images and their face keypoints.\n",
    "\n",
    "sample = training_set[3]\n",
    "image, points = sample\n",
    "show_keypoints(image, points)"
   ]
  },
  {
   "cell_type": "code",
   "execution_count": 2,
   "metadata": {},
   "outputs": [
    {
     "name": "stdout",
     "output_type": "stream",
     "text": [
      "========== Start Epoch 0 ==========\n"
     ]
    },
    {
     "ename": "NameError",
     "evalue": "name 'train_loader' is not defined",
     "output_type": "error",
     "traceback": [
      "\u001b[0;31m---------------------------------------------------------------------------\u001b[0m",
      "\u001b[0;31mNameError\u001b[0m                                 Traceback (most recent call last)",
      "\u001b[0;32m<ipython-input-2-ed6a70bca3e0>\u001b[0m in \u001b[0;36m<module>\u001b[0;34m\u001b[0m\n\u001b[1;32m      8\u001b[0m     \u001b[0mprint\u001b[0m\u001b[0;34m(\u001b[0m\u001b[0;34mf\"========== Start Epoch {ep} ==========\"\u001b[0m\u001b[0;34m)\u001b[0m\u001b[0;34m\u001b[0m\u001b[0;34m\u001b[0m\u001b[0m\n\u001b[1;32m      9\u001b[0m     trained_model, train_loss = train(\n\u001b[0;32m---> 10\u001b[0;31m         \u001b[0mtrain_loader\u001b[0m\u001b[0;34m,\u001b[0m \u001b[0mcnn\u001b[0m\u001b[0;34m.\u001b[0m\u001b[0mFaceFinder\u001b[0m\u001b[0;34m(\u001b[0m\u001b[0;34m)\u001b[0m\u001b[0;34m,\u001b[0m \u001b[0mlearn_rate\u001b[0m\u001b[0;34m\u001b[0m\u001b[0;34m\u001b[0m\u001b[0m\n\u001b[0m\u001b[1;32m     11\u001b[0m     )\n\u001b[1;32m     12\u001b[0m     \u001b[0m_\u001b[0m\u001b[0;34m,\u001b[0m \u001b[0mvalid_loss\u001b[0m \u001b[0;34m=\u001b[0m \u001b[0mtest\u001b[0m\u001b[0;34m(\u001b[0m\u001b[0mtest_loader\u001b[0m\u001b[0;34m,\u001b[0m \u001b[0mtrained_model\u001b[0m\u001b[0;34m,\u001b[0m \u001b[0mshow_every\u001b[0m\u001b[0;34m)\u001b[0m\u001b[0;34m\u001b[0m\u001b[0;34m\u001b[0m\u001b[0m\n",
      "\u001b[0;31mNameError\u001b[0m: name 'train_loader' is not defined"
     ]
    }
   ],
   "source": [
    "# Training and Testing\n",
    "\n",
    "model = cnn.FaceFinder()\n",
    "epochs = 1\n",
    "learn_rate = 0.001\n",
    "show_every = 3\n",
    "loss_per_epoch = []\n",
    "for ep in range(epochs):\n",
    "    print(f\"========== Start Epoch {ep} ==========\")\n",
    "    trained_model, train_loss = train(\n",
    "        train_loader, model, learn_rate\n",
    "    )\n",
    "    _, valid_loss = test(test_loader, trained_model, show_every)\n",
    "    \n",
    "    print_epoch(ep, train_loss, valid_loss)\n",
    "    loss_per_epoch.append([train_loss, valid_loss])"
   ]
  },
  {
   "cell_type": "code",
   "execution_count": 3,
   "metadata": {},
   "outputs": [
    {
     "ename": "IndexError",
     "evalue": "too many indices for array",
     "output_type": "error",
     "traceback": [
      "\u001b[0;31m---------------------------------------------------------------------------\u001b[0m",
      "\u001b[0;31mIndexError\u001b[0m                                Traceback (most recent call last)",
      "\u001b[0;32m<ipython-input-3-902d89c5a733>\u001b[0m in \u001b[0;36m<module>\u001b[0;34m\u001b[0m\n\u001b[1;32m      2\u001b[0m \u001b[0;34m\u001b[0m\u001b[0m\n\u001b[1;32m      3\u001b[0m \u001b[0mloss_per_epoch\u001b[0m \u001b[0;34m=\u001b[0m \u001b[0mnp\u001b[0m\u001b[0;34m.\u001b[0m\u001b[0marray\u001b[0m\u001b[0;34m(\u001b[0m\u001b[0mloss_per_epoch\u001b[0m\u001b[0;34m)\u001b[0m\u001b[0;34m\u001b[0m\u001b[0;34m\u001b[0m\u001b[0m\n\u001b[0;32m----> 4\u001b[0;31m \u001b[0mshow_progress\u001b[0m\u001b[0;34m(\u001b[0m\u001b[0mloss_per_epoch\u001b[0m\u001b[0;34m)\u001b[0m\u001b[0;34m\u001b[0m\u001b[0;34m\u001b[0m\u001b[0m\n\u001b[0m",
      "\u001b[0;32m~/Documents/GitHub/cs194-proj4/display.py\u001b[0m in \u001b[0;36mshow_progress\u001b[0;34m(loss_per_ep)\u001b[0m\n\u001b[1;32m     98\u001b[0m     \u001b[0mplt\u001b[0m\u001b[0;34m.\u001b[0m\u001b[0mxlabel\u001b[0m\u001b[0;34m(\u001b[0m\u001b[0;34m\"epochs\"\u001b[0m\u001b[0;34m)\u001b[0m\u001b[0;34m\u001b[0m\u001b[0;34m\u001b[0m\u001b[0m\n\u001b[1;32m     99\u001b[0m     \u001b[0mplt\u001b[0m\u001b[0;34m.\u001b[0m\u001b[0mxticks\u001b[0m\u001b[0;34m(\u001b[0m\u001b[0mx\u001b[0m\u001b[0;34m)\u001b[0m\u001b[0;34m\u001b[0m\u001b[0;34m\u001b[0m\u001b[0m\n\u001b[0;32m--> 100\u001b[0;31m     \u001b[0mplt\u001b[0m\u001b[0;34m.\u001b[0m\u001b[0mplot\u001b[0m\u001b[0;34m(\u001b[0m\u001b[0mloss_per_ep\u001b[0m\u001b[0;34m[\u001b[0m\u001b[0;34m:\u001b[0m\u001b[0;34m,\u001b[0m \u001b[0;36m0\u001b[0m\u001b[0;34m]\u001b[0m\u001b[0;34m)\u001b[0m\u001b[0;34m\u001b[0m\u001b[0;34m\u001b[0m\u001b[0m\n\u001b[0m\u001b[1;32m    101\u001b[0m \u001b[0;34m\u001b[0m\u001b[0m\n\u001b[1;32m    102\u001b[0m     \u001b[0mplt\u001b[0m\u001b[0;34m.\u001b[0m\u001b[0mfigure\u001b[0m\u001b[0;34m(\u001b[0m\u001b[0;34m)\u001b[0m\u001b[0;34m\u001b[0m\u001b[0;34m\u001b[0m\u001b[0m\n",
      "\u001b[0;31mIndexError\u001b[0m: too many indices for array"
     ]
    },
    {
     "data": {
      "image/png": "[encoded data removed]",
      "text/plain": [
       "<Figure size 432x288 with 1 Axes>"
      ]
     },
     "metadata": {
      "needs_background": "light"
     },
     "output_type": "display_data"
    }
   ],
   "source": [
    "# Plot training and validation loss progress\n",
    "\n",
    "loss_per_epoch = np.array(loss_per_epoch)\n",
    "show_progress(loss_per_epoch)"
   ]
  },
  {
   "cell_type": "markdown",
   "metadata": {},
   "source": [
    "# Part 3"
   ]
  },
  {
   "cell_type": "code",
   "execution_count": 7,
   "metadata": {},
   "outputs": [],
   "source": [
    "from pathlib import Path\n",
    "\n",
    "import matplotlib.pyplot as plt\n",
    "import numpy as np\n",
    "import skimage.io as io\n",
    "import torch\n",
    "import torchvision.transforms as TT\n",
    "from torch.utils.data import DataLoader\n",
    "\n",
    "import cnn\n",
    "from dataloader import LargeDataset\n",
    "from display import *\n",
    "from learn import test, train"
   ]
  },
  {
   "cell_type": "code",
   "execution_count": 9,
   "metadata": {},
   "outputs": [],
   "source": [
    "train_xml = IBUG_ROOT / Path(\"labels_ibug_300W_train.xml\")\n",
    "test_xml = IBUG_ROOT / Path(\"labels_ibug_300W_test_parsed.xml\")"
   ]
  },
  {
   "cell_type": "code",
   "execution_count": 10,
   "metadata": {},
   "outputs": [],
   "source": [
    "# Initialite Datasets\n",
    "\n",
    "training_set = LargeDataset(xml_file=train_xml)\n",
    "# assert len(training_set) == 192\n",
    "validation_set = LargeDataset(xml_file=test_xml)\n",
    "# assert len(validation_set) == 48\n",
    "\n",
    "# Initialize Dataloaders\n",
    "batch_size = 250\n",
    "train_loader = DataLoader(training_set, batch_size, shuffle=True)\n",
    "test_loader = DataLoader(validation_set, batch_size, shuffle=False)"
   ]
  },
  {
   "cell_type": "code",
   "execution_count": null,
   "metadata": {},
   "outputs": [],
   "source": [
    "show_keypoints(training_set[2][0], training_set[2][1])"
   ]
  },
  {
   "cell_type": "code",
   "execution_count": 11,
   "metadata": {},
   "outputs": [
    {
     "ename": "AttributeError",
     "evalue": "'LargeDataset' object has no attribute 'root_dir'",
     "output_type": "error",
     "traceback": [
      "\u001b[0;31m---------------------------------------------------------------------------\u001b[0m",
      "\u001b[0;31mAttributeError\u001b[0m                            Traceback (most recent call last)",
      "\u001b[0;32m<ipython-input-11-3012d82cf5bd>\u001b[0m in \u001b[0;36m<module>\u001b[0;34m\u001b[0m\n\u001b[0;32m----> 1\u001b[0;31m \u001b[0mshow_keypoints\u001b[0m\u001b[0;34m(\u001b[0m\u001b[0mtraining_set\u001b[0m\u001b[0;34m[\u001b[0m\u001b[0;36m134\u001b[0m\u001b[0;34m]\u001b[0m\u001b[0;34m[\u001b[0m\u001b[0;36m0\u001b[0m\u001b[0;34m]\u001b[0m\u001b[0;34m,\u001b[0m \u001b[0mtraining_set\u001b[0m\u001b[0;34m[\u001b[0m\u001b[0;36m134\u001b[0m\u001b[0;34m]\u001b[0m\u001b[0;34m[\u001b[0m\u001b[0;36m1\u001b[0m\u001b[0;34m]\u001b[0m\u001b[0;34m)\u001b[0m\u001b[0;34m\u001b[0m\u001b[0;34m\u001b[0m\u001b[0m\n\u001b[0m",
      "\u001b[0;32m~/Documents/GitHub/cs194-proj4/dataloader.py\u001b[0m in \u001b[0;36m__getitem__\u001b[0;34m(self, idx)\u001b[0m\n\u001b[1;32m    301\u001b[0m \u001b[0;34m\u001b[0m\u001b[0m\n\u001b[1;32m    302\u001b[0m         \u001b[0mfilename\u001b[0m \u001b[0;34m=\u001b[0m \u001b[0mself\u001b[0m\u001b[0;34m.\u001b[0m\u001b[0mfiles\u001b[0m\u001b[0;34m[\u001b[0m\u001b[0midx\u001b[0m\u001b[0;34m]\u001b[0m\u001b[0;34m\u001b[0m\u001b[0;34m\u001b[0m\u001b[0m\n\u001b[0;32m--> 303\u001b[0;31m         \u001b[0mimg\u001b[0m\u001b[0;34m,\u001b[0m \u001b[0mkeypts\u001b[0m \u001b[0;34m=\u001b[0m \u001b[0mload_xml\u001b[0m\u001b[0;34m(\u001b[0m\u001b[0mself\u001b[0m\u001b[0;34m.\u001b[0m\u001b[0mroot_dir\u001b[0m\u001b[0;34m,\u001b[0m \u001b[0mfilename\u001b[0m\u001b[0;34m)\u001b[0m\u001b[0;34m\u001b[0m\u001b[0;34m\u001b[0m\u001b[0m\n\u001b[0m\u001b[1;32m    304\u001b[0m         \u001b[0massert_img\u001b[0m\u001b[0;34m(\u001b[0m\u001b[0mimg\u001b[0m\u001b[0;34m)\u001b[0m\u001b[0;34m\u001b[0m\u001b[0;34m\u001b[0m\u001b[0m\n\u001b[1;32m    305\u001b[0m         \u001b[0massert_points\u001b[0m\u001b[0;34m(\u001b[0m\u001b[0mkeypts\u001b[0m\u001b[0;34m)\u001b[0m\u001b[0;34m\u001b[0m\u001b[0;34m\u001b[0m\u001b[0m\n",
      "\u001b[0;31mAttributeError\u001b[0m: 'LargeDataset' object has no attribute 'root_dir'"
     ]
    }
   ],
   "source": [
    "show_keypoints(training_set[134][0], training_set[134][1])"
   ]
  },
  {
   "cell_type": "code",
   "execution_count": null,
   "metadata": {},
   "outputs": [],
   "source": [
    "# Training and Testing\n",
    "\n",
    "epochs = 18\n",
    "learn_rate = 0.002\n",
    "show_every = 1\n",
    "loss_per_epoch = []\n",
    "model = cnn.ResNet()\n",
    "for ep in range(epochs):\n",
    "    print(f\"========== Start Epoch {ep} ==========\")\n",
    "    trained_model, train_loss = train(\n",
    "        train_loader, model, learn_rate\n",
    "    )\n",
    "    _, valid_loss = test(test_loader, trained_model, show_every)\n",
    "    \n",
    "    print_epoch(ep, train_loss, valid_loss)\n",
    "    loss_per_epoch.append([train_loss, valid_loss])"
   ]
  },
  {
   "cell_type": "code",
   "execution_count": null,
   "metadata": {},
   "outputs": [],
   "source": [
    "# Plot training and validation loss progress\n",
    "\n",
    "loss_per_epoch = np.array(loss_per_epoch)\n",
    "show_progress(loss_per_epoch)"
   ]
  }
 ],
 "metadata": {
  "kernelspec": {
   "display_name": "Python 3",
   "language": "python",
   "name": "python3"
  },
  "language_info": {
   "codemirror_mode": {
    "name": "ipython",
    "version": 3
   },
   "file_extension": ".py",
   "mimetype": "text/x-python",
   "name": "python",
   "nbconvert_exporter": "python",
   "pygments_lexer": "ipython3",
   "version": "3.8.3"
  },
  "toc": {
   "base_numbering": 1,
   "nav_menu": {},
   "number_sections": true,
   "sideBar": true,
   "skip_h1_title": false,
   "title_cell": "Table of Contents",
   "title_sidebar": "Contents",
   "toc_cell": false,
   "toc_position": {},
   "toc_section_display": true,
   "toc_window_display": true
  }
 },
 "nbformat": 4,
 "nbformat_minor": 4
}
