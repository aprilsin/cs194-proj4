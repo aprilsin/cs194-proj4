{
 "cells": [
  {
   "cell_type": "code",
   "execution_count": 57,
   "metadata": {
    "execution": {
     "iopub.execute_input": "2020-11-03T11:35:10.646556Z",
     "iopub.status.busy": "2020-11-03T11:35:10.646060Z",
     "iopub.status.idle": "2020-11-03T11:35:10.684411Z",
     "shell.execute_reply": "2020-11-03T11:35:10.683350Z",
     "shell.execute_reply.started": "2020-11-03T11:35:10.646505Z"
    }
   },
   "outputs": [
    {
     "name": "stdout",
     "output_type": "stream",
     "text": [
      "The autoreload extension is already loaded. To reload it, use:\n",
      "  %reload_ext autoreload\n"
     ]
    }
   ],
   "source": [
    "%load_ext autoreload\n",
    "%autoreload 2"
   ]
  },
  {
   "cell_type": "code",
   "execution_count": 65,
   "metadata": {
    "execution": {
     "iopub.execute_input": "2020-11-03T11:38:06.329032Z",
     "iopub.status.busy": "2020-11-03T11:38:06.328438Z",
     "iopub.status.idle": "2020-11-03T11:38:06.363275Z",
     "shell.execute_reply": "2020-11-03T11:38:06.362247Z",
     "shell.execute_reply.started": "2020-11-03T11:38:06.328969Z"
    }
   },
   "outputs": [],
   "source": [
    "from data import MePicsSet\n",
    "from display import show_keypoints\n",
    "import torch\n",
    "from torch.utils.data import DataLoader\n",
    "from learn import test\n",
    "import numpy as np\n",
    "import morph, utils\n",
    "from pathlib import Path\n",
    "import my_types as mt"
   ]
  },
  {
   "cell_type": "code",
   "execution_count": 28,
   "metadata": {
    "execution": {
     "iopub.execute_input": "2020-11-03T11:21:24.485176Z",
     "iopub.status.busy": "2020-11-03T11:21:24.484995Z",
     "iopub.status.idle": "2020-11-03T11:21:24.503158Z",
     "shell.execute_reply": "2020-11-03T11:21:24.502530Z",
     "shell.execute_reply.started": "2020-11-03T11:21:24.485153Z"
    }
   },
   "outputs": [],
   "source": [
    "OUT_DIR = Path(\"output\")"
   ]
  },
  {
   "cell_type": "code",
   "execution_count": 85,
   "metadata": {
    "execution": {
     "iopub.execute_input": "2020-11-03T11:51:12.297530Z",
     "iopub.status.busy": "2020-11-03T11:51:12.297120Z",
     "iopub.status.idle": "2020-11-03T11:51:12.331842Z",
     "shell.execute_reply": "2020-11-03T11:51:12.330959Z",
     "shell.execute_reply.started": "2020-11-03T11:51:12.297485Z"
    }
   },
   "outputs": [],
   "source": [
    "april_dataset = MePicsSet()\n",
    "april_loader = DataLoader(april_dataset, batch_size=8, shuffle=False)"
   ]
  },
  {
   "cell_type": "code",
   "execution_count": 111,
   "metadata": {
    "execution": {
     "iopub.execute_input": "2020-11-03T11:57:01.315223Z",
     "iopub.status.busy": "2020-11-03T11:57:01.314690Z",
     "iopub.status.idle": "2020-11-03T11:57:01.392055Z",
     "shell.execute_reply": "2020-11-03T11:57:01.390873Z",
     "shell.execute_reply.started": "2020-11-03T11:57:01.315161Z"
    }
   },
   "outputs": [
    {
     "name": "stdout",
     "output_type": "stream",
     "text": [
      "loaded output/model3.pt\n"
     ]
    }
   ],
   "source": [
    "model3_path = max(OUT_DIR.glob(\"model3*\"), key=lambda p: Path(p).stat().st_mtime)\n",
    "model3 = torch.load(model3_path, map_location=\"cpu\")\n",
    "print(f\"loaded {model3_path}\")"
   ]
  },
  {
   "cell_type": "code",
   "execution_count": 129,
   "metadata": {
    "execution": {
     "iopub.execute_input": "2020-11-03T12:03:36.153553Z",
     "iopub.status.busy": "2020-11-03T12:03:36.152479Z",
     "iopub.status.idle": "2020-11-03T12:03:37.219190Z",
     "shell.execute_reply": "2020-11-03T12:03:37.218239Z",
     "shell.execute_reply.started": "2020-11-03T12:03:36.153462Z"
    }
   },
   "outputs": [
    {
     "data": {
      "application/vnd.jupyter.widget-view+json": {
       "model_id": "867d78e8763042058bfa72c8394a3b79",
       "version_major": 2,
       "version_minor": 0
      },
      "text/plain": [
       "HBox(children=(HTML(value=''), FloatProgress(value=0.0, max=2.0), HTML(value='')))"
      ]
     },
     "metadata": {},
     "output_type": "display_data"
    },
    {
     "name": "stdout",
     "output_type": "stream",
     "text": [
      "\n"
     ]
    }
   ],
   "source": [
    "april_imgs, april_preds = test(april_loader, model3)"
   ]
  },
  {
   "cell_type": "code",
   "execution_count": 130,
   "metadata": {
    "execution": {
     "iopub.execute_input": "2020-11-03T12:03:37.220965Z",
     "iopub.status.busy": "2020-11-03T12:03:37.220685Z",
     "iopub.status.idle": "2020-11-03T12:03:37.260443Z",
     "shell.execute_reply": "2020-11-03T12:03:37.259644Z",
     "shell.execute_reply.started": "2020-11-03T12:03:37.220927Z"
    }
   },
   "outputs": [
    {
     "data": {
      "text/plain": [
       "tensor([[0.0726, 0.4162],\n",
       "        [0.0779, 0.4958],\n",
       "        [0.0998, 0.5744],\n",
       "        [0.1350, 0.6601],\n",
       "        [0.1843, 0.7420],\n",
       "        [0.2651, 0.7971],\n",
       "        [0.3477, 0.8396],\n",
       "        [0.4380, 0.8852],\n",
       "        [0.5291, 0.8872],\n",
       "        [0.6213, 0.8702],\n",
       "        [0.7127, 0.8257],\n",
       "        [0.7827, 0.7619],\n",
       "        [0.8435, 0.6936],\n",
       "        [0.8797, 0.6066],\n",
       "        [0.8946, 0.5209],\n",
       "        [0.8956, 0.4236],\n",
       "        [0.8901, 0.3333],\n",
       "        [0.1320, 0.2966],\n",
       "        [0.1636, 0.2706],\n",
       "        [0.2300, 0.2331],\n",
       "        [0.2924, 0.2575],\n",
       "        [0.3853, 0.2598],\n",
       "        [0.4997, 0.2715],\n",
       "        [0.5838, 0.2345],\n",
       "        [0.6702, 0.2096],\n",
       "        [0.7347, 0.2219],\n",
       "        [0.8081, 0.2621],\n",
       "        [0.4628, 0.3440],\n",
       "        [0.4831, 0.3985],\n",
       "        [0.4581, 0.4451],\n",
       "        [0.4873, 0.4956],\n",
       "        [0.3969, 0.5421],\n",
       "        [0.4275, 0.5761],\n",
       "        [0.4915, 0.5590],\n",
       "        [0.5480, 0.5661],\n",
       "        [0.5690, 0.5348],\n",
       "        [0.2078, 0.3614],\n",
       "        [0.2525, 0.3319],\n",
       "        [0.3138, 0.3360],\n",
       "        [0.3586, 0.3634],\n",
       "        [0.2962, 0.3873],\n",
       "        [0.2539, 0.3872],\n",
       "        [0.5657, 0.3502],\n",
       "        [0.6308, 0.3073],\n",
       "        [0.6656, 0.3072],\n",
       "        [0.7221, 0.3398],\n",
       "        [0.6671, 0.3542],\n",
       "        [0.6061, 0.3461],\n",
       "        [0.3578, 0.6839],\n",
       "        [0.3884, 0.6407],\n",
       "        [0.4584, 0.6243],\n",
       "        [0.4885, 0.6439],\n",
       "        [0.5168, 0.6210],\n",
       "        [0.5959, 0.6335],\n",
       "        [0.6368, 0.6445],\n",
       "        [0.6065, 0.7025],\n",
       "        [0.5437, 0.7197],\n",
       "        [0.5200, 0.7221],\n",
       "        [0.4641, 0.7253],\n",
       "        [0.3991, 0.7075],\n",
       "        [0.3689, 0.6637],\n",
       "        [0.4628, 0.6540],\n",
       "        [0.5088, 0.6547],\n",
       "        [0.5264, 0.6444],\n",
       "        [0.6303, 0.6571],\n",
       "        [0.5273, 0.6688],\n",
       "        [0.4898, 0.6802],\n",
       "        [0.4411, 0.6752]], device='cuda:0')"
      ]
     },
     "execution_count": 130,
     "metadata": {},
     "output_type": "execute_result"
    }
   ],
   "source": [
    "april_preds[0]"
   ]
  },
  {
   "cell_type": "code",
   "execution_count": 131,
   "metadata": {
    "execution": {
     "iopub.execute_input": "2020-11-03T12:03:38.278250Z",
     "iopub.status.busy": "2020-11-03T12:03:38.277866Z",
     "iopub.status.idle": "2020-11-03T12:03:38.313519Z",
     "shell.execute_reply": "2020-11-03T12:03:38.312501Z",
     "shell.execute_reply.started": "2020-11-03T12:03:38.278210Z"
    }
   },
   "outputs": [],
   "source": [
    "# for i, p in zip(april_imgs, april_preds):\n",
    "#     show_keypoints(image=i, truth_points=None, pred_points=p)"
   ]
  },
  {
   "cell_type": "code",
   "execution_count": 139,
   "metadata": {
    "execution": {
     "iopub.execute_input": "2020-11-03T12:13:06.356343Z",
     "iopub.status.busy": "2020-11-03T12:13:06.355928Z",
     "iopub.status.idle": "2020-11-03T12:13:20.079254Z",
     "shell.execute_reply": "2020-11-03T12:13:20.078571Z",
     "shell.execute_reply.started": "2020-11-03T12:13:06.356301Z"
    }
   },
   "outputs": [
    {
     "name": "stdout",
     "output_type": "stream",
     "text": [
      "tensor([1.1144e+11, 8.4479e+04], device='cuda:0')\n"
     ]
    },
    {
     "data": {
      "image/png": "[encoded data removed]",
      "text/plain": [
       "<Figure size 432x288 with 1 Axes>"
      ]
     },
     "metadata": {
      "needs_background": "light"
     },
     "output_type": "display_data"
    },
    {
     "name": "stdout",
     "output_type": "stream",
     "text": [
      "tensor([0.0768, 0.2983], device='cuda:0')\n"
     ]
    },
    {
     "data": {
      "image/png": "[encoded data removed]",
      "text/plain": [
       "<Figure size 432x288 with 1 Axes>"
      ]
     },
     "metadata": {
      "needs_background": "light"
     },
     "output_type": "display_data"
    },
    {
     "name": "stdout",
     "output_type": "stream",
     "text": [
      "tensor([0.0838, 0.4135], device='cuda:0')\n"
     ]
    },
    {
     "data": {
      "image/png": "[encoded data removed]",
      "text/plain": [
       "<Figure size 432x288 with 1 Axes>"
      ]
     },
     "metadata": {
      "needs_background": "light"
     },
     "output_type": "display_data"
    },
    {
     "name": "stdout",
     "output_type": "stream",
     "text": [
      "tensor([0.1120, 0.2742], device='cuda:0')\n"
     ]
    },
    {
     "data": {
      "image/png": "[encoded data removed]",
      "text/plain": [
       "<Figure size 432x288 with 1 Axes>"
      ]
     },
     "metadata": {
      "needs_background": "light"
     },
     "output_type": "display_data"
    },
    {
     "name": "stdout",
     "output_type": "stream",
     "text": [
      "tensor([0.0957, 0.3999], device='cuda:0')\n"
     ]
    },
    {
     "data": {
      "image/png": "[encoded data removed]",
      "text/plain": [
       "<Figure size 432x288 with 1 Axes>"
      ]
     },
     "metadata": {
      "needs_background": "light"
     },
     "output_type": "display_data"
    },
    {
     "name": "stdout",
     "output_type": "stream",
     "text": [
      "tensor([0.0979, 0.4252], device='cuda:0')\n"
     ]
    },
    {
     "data": {
      "image/png": "[encoded data removed]",
      "text/plain": [
       "<Figure size 432x288 with 1 Axes>"
      ]
     },
     "metadata": {
      "needs_background": "light"
     },
     "output_type": "display_data"
    },
    {
     "name": "stdout",
     "output_type": "stream",
     "text": [
      "tensor([0.0949, 0.3887], device='cuda:0')\n"
     ]
    },
    {
     "data": {
      "image/png": "[encoded data removed]",
      "text/plain": [
       "<Figure size 432x288 with 1 Axes>"
      ]
     },
     "metadata": {
      "needs_background": "light"
     },
     "output_type": "display_data"
    },
    {
     "name": "stdout",
     "output_type": "stream",
     "text": [
      "tensor([0.1255, 0.3784], device='cuda:0')\n"
     ]
    },
    {
     "data": {
      "image/png": "[encoded data removed]",
      "text/plain": [
       "<Figure size 432x288 with 1 Axes>"
      ]
     },
     "metadata": {
      "needs_background": "light"
     },
     "output_type": "display_data"
    },
    {
     "name": "stdout",
     "output_type": "stream",
     "text": [
      "tensor([0.1220, 0.3579], device='cuda:0')\n"
     ]
    },
    {
     "data": {
      "image/png": "[encoded data removed]",
      "text/plain": [
       "<Figure size 432x288 with 1 Axes>"
      ]
     },
     "metadata": {
      "needs_background": "light"
     },
     "output_type": "display_data"
    },
    {
     "name": "stdout",
     "output_type": "stream",
     "text": [
      "tensor([0.0928, 0.2851], device='cuda:0')\n"
     ]
    },
    {
     "data": {
      "image/png": "[encoded data removed]",
      "text/plain": [
       "<Figure size 432x288 with 1 Axes>"
      ]
     },
     "metadata": {
      "needs_background": "light"
     },
     "output_type": "display_data"
    },
    {
     "name": "stdout",
     "output_type": "stream",
     "text": [
      "tensor([0.0935, 0.4615], device='cuda:0')\n"
     ]
    },
    {
     "data": {
      "image/png": "[encoded data removed]",
      "text/plain": [
       "<Figure size 432x288 with 1 Axes>"
      ]
     },
     "metadata": {
      "needs_background": "light"
     },
     "output_type": "display_data"
    },
    {
     "name": "stdout",
     "output_type": "stream",
     "text": [
      "tensor([0.0770, 0.3998], device='cuda:0')\n"
     ]
    },
    {
     "data": {
      "image/png": "[encoded data removed]",
      "text/plain": [
       "<Figure size 432x288 with 1 Axes>"
      ]
     },
     "metadata": {
      "needs_background": "light"
     },
     "output_type": "display_data"
    },
    {
     "name": "stdout",
     "output_type": "stream",
     "text": [
      "tensor([0.0982, 0.3676], device='cuda:0')\n"
     ]
    },
    {
     "data": {
      "image/png": "[encoded data removed]",
      "text/plain": [
       "<Figure size 432x288 with 1 Axes>"
      ]
     },
     "metadata": {
      "needs_background": "light"
     },
     "output_type": "display_data"
    },
    {
     "name": "stdout",
     "output_type": "stream",
     "text": [
      "tensor([0.0836, 0.3912], device='cuda:0')\n"
     ]
    },
    {
     "data": {
      "image/png": "[encoded data removed]",
      "text/plain": [
       "<Figure size 432x288 with 1 Axes>"
      ]
     },
     "metadata": {
      "needs_background": "light"
     },
     "output_type": "display_data"
    },
    {
     "name": "stdout",
     "output_type": "stream",
     "text": [
      "tensor([0.1357, 0.3963], device='cuda:0')\n"
     ]
    },
    {
     "data": {
      "image/png": "[encoded data removed]",
      "text/plain": [
       "<Figure size 432x288 with 1 Axes>"
      ]
     },
     "metadata": {
      "needs_background": "light"
     },
     "output_type": "display_data"
    },
    {
     "name": "stdout",
     "output_type": "stream",
     "text": [
      "tensor([0.0594, 0.3464], device='cuda:0')\n"
     ]
    },
    {
     "data": {
      "image/png": "[encoded data removed]",
      "text/plain": [
       "<Figure size 432x288 with 1 Axes>"
      ]
     },
     "metadata": {
      "needs_background": "light"
     },
     "output_type": "display_data"
    }
   ],
   "source": [
    "for i in range(len(april_dataset)):\n",
    "    im = april_dataset.get_original_img(i)\n",
    "    h, w, _ = im.shape\n",
    "    print(april_preds[i][0])\n",
    "#     r = mt.to_ratios(april_preds[i], h, w)\n",
    "#     print(r[i])\n",
    "    r = april_preds[i]\n",
    "    p = april_dataset.get_original_pts(i, r)\n",
    "    show_keypoints(image=im, truth_points=None, pred_points=p, ratio=False)"
   ]
  },
  {
   "cell_type": "code",
   "execution_count": 48,
   "metadata": {
    "execution": {
     "iopub.execute_input": "2020-11-03T11:30:01.431213Z",
     "iopub.status.busy": "2020-11-03T11:30:01.430753Z",
     "iopub.status.idle": "2020-11-03T11:30:01.617253Z",
     "shell.execute_reply": "2020-11-03T11:30:01.614914Z",
     "shell.execute_reply.started": "2020-11-03T11:30:01.431158Z"
    }
   },
   "outputs": [
    {
     "ename": "AssertionError",
     "evalue": "points are not ratios 1.5451016426086426, 5.947823524475098",
     "output_type": "error",
     "traceback": [
      "\u001b[0;31m---------------------------------------------------------------------------\u001b[0m",
      "\u001b[0;31mAssertionError\u001b[0m                            Traceback (most recent call last)",
      "\u001b[0;32m<ipython-input-48-369508f6a48e>\u001b[0m in \u001b[0;36m<module>\u001b[0;34m\u001b[0m\n\u001b[1;32m     11\u001b[0m \u001b[0;34m\u001b[0m\u001b[0m\n\u001b[1;32m     12\u001b[0m     \u001b[0mpred_pts\u001b[0m \u001b[0;34m=\u001b[0m \u001b[0mmt\u001b[0m\u001b[0;34m.\u001b[0m\u001b[0mto_points\u001b[0m\u001b[0;34m(\u001b[0m\u001b[0mapril_preds\u001b[0m\u001b[0;34m[\u001b[0m\u001b[0mi\u001b[0m\u001b[0;34m]\u001b[0m\u001b[0;34m)\u001b[0m\u001b[0;34m\u001b[0m\u001b[0;34m\u001b[0m\u001b[0m\n\u001b[0;32m---> 13\u001b[0;31m     \u001b[0mpts\u001b[0m \u001b[0;34m=\u001b[0m \u001b[0mapril_dataset\u001b[0m\u001b[0;34m.\u001b[0m\u001b[0mget_morph_pts\u001b[0m\u001b[0;34m(\u001b[0m\u001b[0mi\u001b[0m\u001b[0;34m,\u001b[0m \u001b[0mpred_pts\u001b[0m\u001b[0;34m)\u001b[0m\u001b[0;34m\u001b[0m\u001b[0;34m\u001b[0m\u001b[0m\n\u001b[0m\u001b[1;32m     14\u001b[0m     \u001b[0;31m# pts = np.vstack((pred_pts, corners))\u001b[0m\u001b[0;34m\u001b[0m\u001b[0;34m\u001b[0m\u001b[0;34m\u001b[0m\u001b[0m\n\u001b[1;32m     15\u001b[0m \u001b[0;31m#     my_types.assert_points(pts)\u001b[0m\u001b[0;34m\u001b[0m\u001b[0;34m\u001b[0m\u001b[0;34m\u001b[0m\u001b[0m\n",
      "\u001b[0;32m~/cs194-proj4/data.py\u001b[0m in \u001b[0;36mget_morph_pts\u001b[0;34m(self, idx, keypts)\u001b[0m\n\u001b[1;32m    677\u001b[0m         \u001b[0mpts\u001b[0m\u001b[0;34m[\u001b[0m\u001b[0;34m:\u001b[0m\u001b[0;34m,\u001b[0m \u001b[0;36m1\u001b[0m\u001b[0;34m]\u001b[0m \u001b[0;34m/=\u001b[0m \u001b[0;36m500\u001b[0m\u001b[0;34m\u001b[0m\u001b[0;34m\u001b[0m\u001b[0m\n\u001b[1;32m    678\u001b[0m \u001b[0;34m\u001b[0m\u001b[0m\n\u001b[0;32m--> 679\u001b[0;31m         \u001b[0massert_points\u001b[0m\u001b[0;34m(\u001b[0m\u001b[0mpts\u001b[0m\u001b[0;34m)\u001b[0m\u001b[0;34m\u001b[0m\u001b[0;34m\u001b[0m\u001b[0m\n\u001b[0m\u001b[1;32m    680\u001b[0m         \u001b[0;32mreturn\u001b[0m \u001b[0mpts\u001b[0m\u001b[0;34m\u001b[0m\u001b[0;34m\u001b[0m\u001b[0m\n",
      "\u001b[0;32m~/cs194-proj4/my_types.py\u001b[0m in \u001b[0;36massert_points\u001b[0;34m(pts, ratio)\u001b[0m\n\u001b[1;32m     21\u001b[0m             \u001b[0mcols\u001b[0m \u001b[0;34m=\u001b[0m \u001b[0mpts\u001b[0m\u001b[0;34m[\u001b[0m\u001b[0;34m:\u001b[0m\u001b[0;34m,\u001b[0m \u001b[0;36m1\u001b[0m\u001b[0;34m]\u001b[0m\u001b[0;34m\u001b[0m\u001b[0;34m\u001b[0m\u001b[0m\n\u001b[1;32m     22\u001b[0m             \u001b[0;31m# leave some wiggle room so use 1.5 instead of 1\u001b[0m\u001b[0;34m\u001b[0m\u001b[0;34m\u001b[0m\u001b[0;34m\u001b[0m\u001b[0m\n\u001b[0;32m---> 23\u001b[0;31m             assert (\n\u001b[0m\u001b[1;32m     24\u001b[0m                 \u001b[0mrows\u001b[0m\u001b[0;34m.\u001b[0m\u001b[0mmax\u001b[0m\u001b[0;34m(\u001b[0m\u001b[0;34m)\u001b[0m \u001b[0;34m<=\u001b[0m \u001b[0;36m1.5\u001b[0m \u001b[0;32mand\u001b[0m \u001b[0mcols\u001b[0m\u001b[0;34m.\u001b[0m\u001b[0mmax\u001b[0m\u001b[0;34m(\u001b[0m\u001b[0;34m)\u001b[0m \u001b[0;34m<=\u001b[0m \u001b[0;36m1.5\u001b[0m\u001b[0;34m\u001b[0m\u001b[0;34m\u001b[0m\u001b[0m\n\u001b[1;32m     25\u001b[0m             ), f\"points are not ratios {rows.max()}, {cols.max()}\"\n",
      "\u001b[0;31mAssertionError\u001b[0m: points are not ratios 1.5451016426086426, 5.947823524475098"
     ]
    }
   ],
   "source": [
    "import data, my_types\n",
    "import my_types as mt\n",
    "\n",
    "morph_imgs = []\n",
    "morph_pts = []\n",
    "corners = np.array([[0, 0], [0, 499/500], [499/500, 0], [499/500, 499/500]])\n",
    "# for i in range(len(april_dataset)):\n",
    "for i in [0, 1]:\n",
    "    im = mt.to_img_arr(april_dataset.get_morph_img(i))\n",
    "    morph_imgs.append(im)\n",
    "\n",
    "    pred_pts = mt.to_points(april_preds[i])\n",
    "    pts = april_dataset.get_morph_pts(i, pred_pts)\n",
    "    # pts = np.vstack((pred_pts, corners))\n",
    "#     my_types.assert_points(pts)\n",
    "    morph_pts.append(pts)\n",
    "    \n",
    "    print(im.shape)\n",
    "    show_keypoints(im, pts, color=True)\n",
    "\n",
    "\n",
    "middle, _, _ = morph.compute_middle_object(\n",
    "    morph_imgs[0], morph_imgs[1], morph_pts[0], morph_pts[1], alpha=0.5\n",
    ")\n",
    "plt.imshow(middle)"
   ]
  },
  {
   "cell_type": "code",
   "execution_count": null,
   "metadata": {},
   "outputs": [],
   "source": [
    "filename = OUT_DIR / f\"morph_{time.time()}.mp4\"\n",
    "\n",
    "me1, me2 = morph_imgs[0], morph_imgs[1]\n",
    "pts1, pts2 = morph_pts[0], morph_pts[1]\n",
    "# morph.compute_middle_object(me1, me2, pts1, pts2, alpha=0.5)\n",
    "# morph.compute_morph_video(me1, me2, pts1, pts2, filename)"
   ]
  }
 ],
 "metadata": {
  "kernelspec": {
   "display_name": "Python 3",
   "language": "python",
   "name": "python3"
  },
  "language_info": {
   "codemirror_mode": {
    "name": "ipython",
    "version": 3
   },
   "file_extension": ".py",
   "mimetype": "text/x-python",
   "name": "python",
   "nbconvert_exporter": "python",
   "pygments_lexer": "ipython3",
   "version": "3.8.5"
  }
 },
 "nbformat": 4,
 "nbformat_minor": 4
}
