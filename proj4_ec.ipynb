{
 "cells": [
  {
   "cell_type": "code",
   "execution_count": 57,
   "metadata": {
    "execution": {
     "iopub.execute_input": "2020-11-03T11:35:10.646556Z",
     "iopub.status.busy": "2020-11-03T11:35:10.646060Z",
     "iopub.status.idle": "2020-11-03T11:35:10.684411Z",
     "shell.execute_reply": "2020-11-03T11:35:10.683350Z",
     "shell.execute_reply.started": "2020-11-03T11:35:10.646505Z"
    }
   },
   "outputs": [
    {
     "name": "stdout",
     "output_type": "stream",
     "text": [
      "The autoreload extension is already loaded. To reload it, use:\n",
      "  %reload_ext autoreload\n"
     ]
    }
   ],
   "source": [
    "%load_ext autoreload\n",
    "%autoreload 2"
   ]
  },
  {
   "cell_type": "code",
   "execution_count": 65,
   "metadata": {
    "execution": {
     "iopub.execute_input": "2020-11-03T11:38:06.329032Z",
     "iopub.status.busy": "2020-11-03T11:38:06.328438Z",
     "iopub.status.idle": "2020-11-03T11:38:06.363275Z",
     "shell.execute_reply": "2020-11-03T11:38:06.362247Z",
     "shell.execute_reply.started": "2020-11-03T11:38:06.328969Z"
    }
   },
   "outputs": [],
   "source": [
    "from data import MePicsSet\n",
    "from display import show_keypoints\n",
    "import torch\n",
    "from torch.utils.data import DataLoader\n",
    "from learn import test\n",
    "import numpy as np\n",
    "import morph, utils\n",
    "from pathlib import Path\n",
    "import my_types as mt"
   ]
  },
  {
   "cell_type": "code",
   "execution_count": 28,
   "metadata": {
    "execution": {
     "iopub.execute_input": "2020-11-03T11:21:24.485176Z",
     "iopub.status.busy": "2020-11-03T11:21:24.484995Z",
     "iopub.status.idle": "2020-11-03T11:21:24.503158Z",
     "shell.execute_reply": "2020-11-03T11:21:24.502530Z",
     "shell.execute_reply.started": "2020-11-03T11:21:24.485153Z"
    }
   },
   "outputs": [],
   "source": [
    "OUT_DIR = Path(\"output\")"
   ]
  },
  {
   "cell_type": "code",
   "execution_count": 29,
   "metadata": {
    "execution": {
     "iopub.execute_input": "2020-11-03T11:21:24.556758Z",
     "iopub.status.busy": "2020-11-03T11:21:24.556562Z",
     "iopub.status.idle": "2020-11-03T11:21:24.577048Z",
     "shell.execute_reply": "2020-11-03T11:21:24.576381Z",
     "shell.execute_reply.started": "2020-11-03T11:21:24.556733Z"
    }
   },
   "outputs": [],
   "source": [
    "april_dataset = MePicsSet()\n",
    "april_loader = DataLoader(april_dataset, batch_size=8, shuffle=False)"
   ]
  },
  {
   "cell_type": "code",
   "execution_count": 30,
   "metadata": {
    "execution": {
     "iopub.execute_input": "2020-11-03T11:21:25.310282Z",
     "iopub.status.busy": "2020-11-03T11:21:25.309684Z",
     "iopub.status.idle": "2020-11-03T11:21:25.348313Z",
     "shell.execute_reply": "2020-11-03T11:21:25.347473Z",
     "shell.execute_reply.started": "2020-11-03T11:21:25.310199Z"
    }
   },
   "outputs": [
    {
     "data": {
      "text/plain": [
       "(810, 54, 287, 287)"
      ]
     },
     "execution_count": 30,
     "metadata": {},
     "output_type": "execute_result"
    }
   ],
   "source": [
    "april_dataset.samples[0].get_crop_box()"
   ]
  },
  {
   "cell_type": "code",
   "execution_count": 31,
   "metadata": {
    "execution": {
     "iopub.execute_input": "2020-11-03T11:21:25.742816Z",
     "iopub.status.busy": "2020-11-03T11:21:25.742339Z",
     "iopub.status.idle": "2020-11-03T11:21:25.827075Z",
     "shell.execute_reply": "2020-11-03T11:21:25.826138Z",
     "shell.execute_reply.started": "2020-11-03T11:21:25.742765Z"
    }
   },
   "outputs": [
    {
     "data": {
      "text/plain": [
       "array([[[0.17647059, 0.18039216, 0.2       ],\n",
       "        [0.22352941, 0.22745098, 0.24705882],\n",
       "        [0.23921569, 0.24313725, 0.2627451 ],\n",
       "        ...,\n",
       "        [0.72941176, 0.61176471, 0.4       ],\n",
       "        [0.7254902 , 0.60784314, 0.39607843],\n",
       "        [0.7254902 , 0.60784314, 0.39607843]],\n",
       "\n",
       "       [[0.18039216, 0.17647059, 0.19607843],\n",
       "        [0.22745098, 0.23137255, 0.25098039],\n",
       "        [0.2745098 , 0.27843137, 0.29803922],\n",
       "        ...,\n",
       "        [0.7254902 , 0.60784314, 0.39607843],\n",
       "        [0.7254902 , 0.60784314, 0.39607843],\n",
       "        [0.72156863, 0.60392157, 0.39215686]],\n",
       "\n",
       "       [[0.18431373, 0.18039216, 0.2       ],\n",
       "        [0.22745098, 0.23137255, 0.24705882],\n",
       "        [0.28235294, 0.28627451, 0.30588235],\n",
       "        ...,\n",
       "        [0.7254902 , 0.60784314, 0.39607843],\n",
       "        [0.72156863, 0.60392157, 0.39215686],\n",
       "        [0.72156863, 0.60392157, 0.39215686]],\n",
       "\n",
       "       ...,\n",
       "\n",
       "       [[0.02352941, 0.06666667, 0.09019608],\n",
       "        [0.02745098, 0.0627451 , 0.09019608],\n",
       "        [0.01960784, 0.04705882, 0.07058824],\n",
       "        ...,\n",
       "        [0.85490196, 0.89411765, 1.        ],\n",
       "        [0.85490196, 0.89411765, 1.        ],\n",
       "        [0.85098039, 0.89019608, 0.99607843]],\n",
       "\n",
       "       [[0.01568627, 0.06666667, 0.09019608],\n",
       "        [0.01960784, 0.0627451 , 0.08627451],\n",
       "        [0.01568627, 0.05098039, 0.07843137],\n",
       "        ...,\n",
       "        [0.85882353, 0.89803922, 1.        ],\n",
       "        [0.85882353, 0.89803922, 1.        ],\n",
       "        [0.85490196, 0.89411765, 1.        ]],\n",
       "\n",
       "       [[0.01568627, 0.06666667, 0.09803922],\n",
       "        [0.02352941, 0.06666667, 0.09019608],\n",
       "        [0.01568627, 0.05098039, 0.07843137],\n",
       "        ...,\n",
       "        [0.85882353, 0.89803922, 1.        ],\n",
       "        [0.85882353, 0.89803922, 1.        ],\n",
       "        [0.85490196, 0.89411765, 1.        ]]])"
      ]
     },
     "execution_count": 31,
     "metadata": {},
     "output_type": "execute_result"
    }
   ],
   "source": [
    "april_dataset.samples[0].get_cropped_img()"
   ]
  },
  {
   "cell_type": "code",
   "execution_count": 32,
   "metadata": {
    "execution": {
     "iopub.execute_input": "2020-11-03T11:21:26.469734Z",
     "iopub.status.busy": "2020-11-03T11:21:26.469307Z",
     "iopub.status.idle": "2020-11-03T11:21:26.546097Z",
     "shell.execute_reply": "2020-11-03T11:21:26.545279Z",
     "shell.execute_reply.started": "2020-11-03T11:21:26.469685Z"
    }
   },
   "outputs": [
    {
     "name": "stdout",
     "output_type": "stream",
     "text": [
      "loaded output/model3.pt\n"
     ]
    }
   ],
   "source": [
    "model3_path = max(OUT_DIR.glob(\"model3*\"), key=lambda p: Path(p).stat().st_mtime)\n",
    "model3 = torch.load(model3_path, map_location=\"cpu\")\n",
    "print(f\"loaded {model3_path}\")"
   ]
  },
  {
   "cell_type": "code",
   "execution_count": 33,
   "metadata": {
    "execution": {
     "iopub.execute_input": "2020-11-03T11:21:27.262429Z",
     "iopub.status.busy": "2020-11-03T11:21:27.260661Z",
     "iopub.status.idle": "2020-11-03T11:21:28.268943Z",
     "shell.execute_reply": "2020-11-03T11:21:28.268188Z",
     "shell.execute_reply.started": "2020-11-03T11:21:27.262246Z"
    }
   },
   "outputs": [
    {
     "data": {
      "application/vnd.jupyter.widget-view+json": {
       "model_id": "a223ac78b2404d1f96f672bfd140d4ce",
       "version_major": 2,
       "version_minor": 0
      },
      "text/plain": [
       "HBox(children=(HTML(value=''), FloatProgress(value=0.0, max=2.0), HTML(value='')))"
      ]
     },
     "metadata": {},
     "output_type": "display_data"
    },
    {
     "name": "stdout",
     "output_type": "stream",
     "text": [
      "\n"
     ]
    }
   ],
   "source": [
    "april_imgs, april_preds = test(april_loader, model3)"
   ]
  },
  {
   "cell_type": "code",
   "execution_count": 83,
   "metadata": {
    "execution": {
     "iopub.execute_input": "2020-11-03T11:49:19.811937Z",
     "iopub.status.busy": "2020-11-03T11:49:19.811002Z",
     "iopub.status.idle": "2020-11-03T11:49:22.892415Z",
     "shell.execute_reply": "2020-11-03T11:49:22.891394Z",
     "shell.execute_reply.started": "2020-11-03T11:49:19.811859Z"
    }
   },
   "outputs": [
    {
     "data": {
      "image/png": "[encoded data removed]",
      "text/plain": [
       "<Figure size 432x288 with 1 Axes>"
      ]
     },
     "metadata": {
      "needs_background": "light"
     },
     "output_type": "display_data"
    },
    {
     "data": {
      "image/png": "[encoded data removed]",
      "text/plain": [
       "<Figure size 432x288 with 1 Axes>"
      ]
     },
     "metadata": {
      "needs_background": "light"
     },
     "output_type": "display_data"
    },
    {
     "data": {
      "image/png": "[encoded data removed]",
      "text/plain": [
       "<Figure size 432x288 with 1 Axes>"
      ]
     },
     "metadata": {
      "needs_background": "light"
     },
     "output_type": "display_data"
    },
    {
     "data": {
      "image/png": "[encoded data removed]",
      "text/plain": [
       "<Figure size 432x288 with 1 Axes>"
      ]
     },
     "metadata": {
      "needs_background": "light"
     },
     "output_type": "display_data"
    },
    {
     "data": {
      "image/png": "[encoded data removed]",
      "text/plain": [
       "<Figure size 432x288 with 1 Axes>"
      ]
     },
     "metadata": {
      "needs_background": "light"
     },
     "output_type": "display_data"
    },
    {
     "data": {
      "image/png": "[encoded data removed]",
      "text/plain": [
       "<Figure size 432x288 with 1 Axes>"
      ]
     },
     "metadata": {
      "needs_background": "light"
     },
     "output_type": "display_data"
    },
    {
     "data": {
      "image/png": "[encoded data removed]",
      "text/plain": [
       "<Figure size 432x288 with 1 Axes>"
      ]
     },
     "metadata": {
      "needs_background": "light"
     },
     "output_type": "display_data"
    },
    {
     "data": {
      "image/png": "[encoded data removed]",
      "text/plain": [
       "<Figure size 432x288 with 1 Axes>"
      ]
     },
     "metadata": {
      "needs_background": "light"
     },
     "output_type": "display_data"
    },
    {
     "data": {
      "image/png": "[encoded data removed]",
      "text/plain": [
       "<Figure size 432x288 with 1 Axes>"
      ]
     },
     "metadata": {
      "needs_background": "light"
     },
     "output_type": "display_data"
    },
    {
     "data": {
      "image/png": "[encoded data removed]",
      "text/plain": [
       "<Figure size 432x288 with 1 Axes>"
      ]
     },
     "metadata": {
      "needs_background": "light"
     },
     "output_type": "display_data"
    },
    {
     "data": {
      "image/png": "[encoded data removed]",
      "text/plain": [
       "<Figure size 432x288 with 1 Axes>"
      ]
     },
     "metadata": {
      "needs_background": "light"
     },
     "output_type": "display_data"
    },
    {
     "data": {
      "image/png": "[encoded data removed]",
      "text/plain": [
       "<Figure size 432x288 with 1 Axes>"
      ]
     },
     "metadata": {
      "needs_background": "light"
     },
     "output_type": "display_data"
    },
    {
     "data": {
      "image/png": "[encoded data removed]",
      "text/plain": [
       "<Figure size 432x288 with 1 Axes>"
      ]
     },
     "metadata": {
      "needs_background": "light"
     },
     "output_type": "display_data"
    },
    {
     "data": {
      "image/png": "[encoded data removed]",
      "text/plain": [
       "<Figure size 432x288 with 1 Axes>"
      ]
     },
     "metadata": {
      "needs_background": "light"
     },
     "output_type": "display_data"
    },
    {
     "data": {
      "image/png": "[encoded data removed]",
      "text/plain": [
       "<Figure size 432x288 with 1 Axes>"
      ]
     },
     "metadata": {
      "needs_background": "light"
     },
     "output_type": "display_data"
    },
    {
     "data": {
      "image/png": "[encoded data removed]",
      "text/plain": [
       "<Figure size 432x288 with 1 Axes>"
      ]
     },
     "metadata": {
      "needs_background": "light"
     },
     "output_type": "display_data"
    }
   ],
   "source": [
    "for i, p in zip(april_imgs, april_preds):\n",
    "    show_keypoints(image=i, truth_points=None, pred_points=p)"
   ]
  },
  {
   "cell_type": "code",
   "execution_count": 74,
   "metadata": {
    "execution": {
     "iopub.execute_input": "2020-11-03T11:44:50.923975Z",
     "iopub.status.busy": "2020-11-03T11:44:50.923408Z",
     "iopub.status.idle": "2020-11-03T11:44:50.975232Z",
     "shell.execute_reply": "2020-11-03T11:44:50.974175Z",
     "shell.execute_reply.started": "2020-11-03T11:44:50.923913Z"
    }
   },
   "outputs": [
    {
     "data": {
      "text/plain": [
       "tensor([[8.0069e+04, 9.4703e-01],\n",
       "        [8.3022e+04, 1.0266e+00],\n",
       "        [9.5045e+04, 1.1052e+00],\n",
       "        [1.1447e+05, 1.1909e+00],\n",
       "        [1.4160e+05, 1.2728e+00],\n",
       "        [1.8610e+05, 1.3279e+00],\n",
       "        [2.3157e+05, 1.3704e+00],\n",
       "        [2.8124e+05, 1.4160e+00],\n",
       "        [3.3141e+05, 1.4180e+00],\n",
       "        [3.8220e+05, 1.4010e+00],\n",
       "        [4.3249e+05, 1.3565e+00],\n",
       "        [4.7107e+05, 1.2927e+00],\n",
       "        [5.0455e+05, 1.2244e+00],\n",
       "        [5.2443e+05, 1.1374e+00],\n",
       "        [5.3264e+05, 1.0517e+00],\n",
       "        [5.3322e+05, 9.5442e-01],\n",
       "        [5.3018e+05, 8.6409e-01],\n",
       "        [1.1281e+05, 8.2737e-01],\n",
       "        [1.3017e+05, 8.0142e-01],\n",
       "        [1.6677e+05, 7.6386e-01],\n",
       "        [2.0111e+05, 7.8833e-01],\n",
       "        [2.5225e+05, 7.9055e-01],\n",
       "        [3.1526e+05, 8.0233e-01],\n",
       "        [3.6152e+05, 7.6533e-01],\n",
       "        [4.0912e+05, 7.4036e-01],\n",
       "        [4.4463e+05, 7.5273e-01],\n",
       "        [4.8501e+05, 7.9287e-01],\n",
       "        [2.9494e+05, 8.7478e-01],\n",
       "        [3.0613e+05, 9.2932e-01],\n",
       "        [2.9234e+05, 9.7586e-01],\n",
       "        [3.0841e+05, 1.0264e+00],\n",
       "        [2.5864e+05, 1.0729e+00],\n",
       "        [2.7550e+05, 1.1069e+00],\n",
       "        [3.1072e+05, 1.0898e+00],\n",
       "        [3.4182e+05, 1.0969e+00],\n",
       "        [3.5339e+05, 1.0656e+00],\n",
       "        [1.5453e+05, 8.9218e-01],\n",
       "        [1.7915e+05, 8.6268e-01],\n",
       "        [2.1288e+05, 8.6678e-01],\n",
       "        [2.3756e+05, 8.9421e-01],\n",
       "        [2.0322e+05, 9.1813e-01],\n",
       "        [1.7994e+05, 9.1798e-01],\n",
       "        [3.5157e+05, 8.8105e-01],\n",
       "        [3.8741e+05, 8.3815e-01],\n",
       "        [4.0656e+05, 8.3801e-01],\n",
       "        [4.3767e+05, 8.7065e-01],\n",
       "        [4.0740e+05, 8.8497e-01],\n",
       "        [3.7384e+05, 8.7690e-01],\n",
       "        [2.3712e+05, 1.2147e+00],\n",
       "        [2.5398e+05, 1.1715e+00],\n",
       "        [2.9249e+05, 1.1551e+00],\n",
       "        [3.0910e+05, 1.1747e+00],\n",
       "        [3.2464e+05, 1.1518e+00],\n",
       "        [3.6820e+05, 1.1643e+00],\n",
       "        [3.9071e+05, 1.1753e+00],\n",
       "        [3.7402e+05, 1.2333e+00],\n",
       "        [3.3948e+05, 1.2505e+00],\n",
       "        [3.2644e+05, 1.2529e+00],\n",
       "        [2.9566e+05, 1.2561e+00],\n",
       "        [2.5985e+05, 1.2383e+00],\n",
       "        [2.4324e+05, 1.1945e+00],\n",
       "        [2.9493e+05, 1.1848e+00],\n",
       "        [3.2025e+05, 1.1855e+00],\n",
       "        [3.2992e+05, 1.1752e+00],\n",
       "        [3.8712e+05, 1.1879e+00],\n",
       "        [3.3041e+05, 1.1996e+00],\n",
       "        [3.0981e+05, 1.2110e+00],\n",
       "        [2.8297e+05, 1.2060e+00]], device='cuda:0')"
      ]
     },
     "execution_count": 74,
     "metadata": {},
     "output_type": "execute_result"
    }
   ],
   "source": [
    "april_preds[0]"
   ]
  },
  {
   "cell_type": "code",
   "execution_count": 73,
   "metadata": {
    "execution": {
     "iopub.execute_input": "2020-11-03T11:44:26.268694Z",
     "iopub.status.busy": "2020-11-03T11:44:26.268271Z",
     "iopub.status.idle": "2020-11-03T11:44:26.512589Z",
     "shell.execute_reply": "2020-11-03T11:44:26.511321Z",
     "shell.execute_reply.started": "2020-11-03T11:44:26.268648Z"
    }
   },
   "outputs": [
    {
     "name": "stdout",
     "output_type": "stream",
     "text": [
      "tensor(533218.7500, device='cuda:0') tensor(80069.1406, device='cuda:0')\n"
     ]
    },
    {
     "ename": "AssertionError",
     "evalue": "points are not ratios 533218.75, 1.4180290699005127",
     "output_type": "error",
     "traceback": [
      "\u001b[0;31m---------------------------------------------------------------------------\u001b[0m",
      "\u001b[0;31mAssertionError\u001b[0m                            Traceback (most recent call last)",
      "\u001b[0;32m<ipython-input-73-94ab70b259c3>\u001b[0m in \u001b[0;36m<module>\u001b[0;34m\u001b[0m\n\u001b[1;32m      4\u001b[0m     \u001b[0mh\u001b[0m\u001b[0;34m,\u001b[0m \u001b[0mw\u001b[0m\u001b[0;34m,\u001b[0m \u001b[0m_\u001b[0m \u001b[0;34m=\u001b[0m \u001b[0mim\u001b[0m\u001b[0;34m.\u001b[0m\u001b[0mshape\u001b[0m\u001b[0;34m\u001b[0m\u001b[0;34m\u001b[0m\u001b[0m\n\u001b[1;32m      5\u001b[0m     \u001b[0mr\u001b[0m \u001b[0;34m=\u001b[0m \u001b[0mmt\u001b[0m\u001b[0;34m.\u001b[0m\u001b[0mto_ratios\u001b[0m\u001b[0;34m(\u001b[0m\u001b[0mapril_preds\u001b[0m\u001b[0;34m[\u001b[0m\u001b[0mi\u001b[0m\u001b[0;34m]\u001b[0m\u001b[0;34m,\u001b[0m \u001b[0mh\u001b[0m\u001b[0;34m,\u001b[0m \u001b[0mw\u001b[0m\u001b[0;34m)\u001b[0m\u001b[0;34m\u001b[0m\u001b[0;34m\u001b[0m\u001b[0m\n\u001b[0;32m----> 6\u001b[0;31m     \u001b[0mmt\u001b[0m\u001b[0;34m.\u001b[0m\u001b[0massert_points\u001b[0m\u001b[0;34m(\u001b[0m\u001b[0mr\u001b[0m\u001b[0;34m)\u001b[0m\u001b[0;34m\u001b[0m\u001b[0;34m\u001b[0m\u001b[0m\n\u001b[0m\u001b[1;32m      7\u001b[0m     \u001b[0mp\u001b[0m \u001b[0;34m=\u001b[0m \u001b[0mapril_dataset\u001b[0m\u001b[0;34m.\u001b[0m\u001b[0mget_original_pts\u001b[0m\u001b[0;34m(\u001b[0m\u001b[0mi\u001b[0m\u001b[0;34m,\u001b[0m \u001b[0mr\u001b[0m\u001b[0;34m)\u001b[0m\u001b[0;34m\u001b[0m\u001b[0;34m\u001b[0m\u001b[0m\n\u001b[1;32m      8\u001b[0m     \u001b[0mshow_keypoints\u001b[0m\u001b[0;34m(\u001b[0m\u001b[0mimage\u001b[0m\u001b[0;34m=\u001b[0m\u001b[0mim\u001b[0m\u001b[0;34m,\u001b[0m \u001b[0mtruth_points\u001b[0m\u001b[0;34m=\u001b[0m\u001b[0;32mNone\u001b[0m\u001b[0;34m,\u001b[0m \u001b[0mpred_points\u001b[0m\u001b[0;34m=\u001b[0m\u001b[0mp\u001b[0m\u001b[0;34m)\u001b[0m\u001b[0;34m\u001b[0m\u001b[0;34m\u001b[0m\u001b[0m\n",
      "\u001b[0;32m~/cs194-proj4/my_types.py\u001b[0m in \u001b[0;36massert_points\u001b[0;34m(pts, ratio)\u001b[0m\n\u001b[1;32m     33\u001b[0m             \u001b[0mcols\u001b[0m \u001b[0;34m=\u001b[0m \u001b[0mpts\u001b[0m\u001b[0;34m[\u001b[0m\u001b[0;34m:\u001b[0m\u001b[0;34m,\u001b[0m \u001b[0;36m1\u001b[0m\u001b[0;34m]\u001b[0m\u001b[0;34m\u001b[0m\u001b[0;34m\u001b[0m\u001b[0m\n\u001b[1;32m     34\u001b[0m             \u001b[0;31m# leave some wiggle room so use 1.5 instead of 1\u001b[0m\u001b[0;34m\u001b[0m\u001b[0;34m\u001b[0m\u001b[0;34m\u001b[0m\u001b[0m\n\u001b[0;32m---> 35\u001b[0;31m             assert (\n\u001b[0m\u001b[1;32m     36\u001b[0m                 \u001b[0mrows\u001b[0m\u001b[0;34m.\u001b[0m\u001b[0mmax\u001b[0m\u001b[0;34m(\u001b[0m\u001b[0;34m)\u001b[0m \u001b[0;34m<=\u001b[0m \u001b[0;36m1.5\u001b[0m \u001b[0;32mand\u001b[0m \u001b[0mcols\u001b[0m\u001b[0;34m.\u001b[0m\u001b[0mmax\u001b[0m\u001b[0;34m(\u001b[0m\u001b[0;34m)\u001b[0m \u001b[0;34m<=\u001b[0m \u001b[0;36m1.5\u001b[0m\u001b[0;34m\u001b[0m\u001b[0;34m\u001b[0m\u001b[0m\n\u001b[1;32m     37\u001b[0m             ), f\"points are not ratios {rows.max()}, {cols.max()}\"\n",
      "\u001b[0;31mAssertionError\u001b[0m: points are not ratios 533218.75, 1.4180290699005127"
     ]
    }
   ],
   "source": [
    "for i in range(len(april_dataset)):\n",
    "    im = april_dataset.get_original_img(i)\n",
    "    h, w, _ = im.shape\n",
    "    r = mt.to_ratios(april_preds[i], h, w)\n",
    "    mt.assert_points(r)\n",
    "    p = april_dataset.get_original_pts(i, r)\n",
    "    show_keypoints(image=im, truth_points=None, pred_points=p)"
   ]
  },
  {
   "cell_type": "code",
   "execution_count": 48,
   "metadata": {
    "execution": {
     "iopub.execute_input": "2020-11-03T11:30:01.431213Z",
     "iopub.status.busy": "2020-11-03T11:30:01.430753Z",
     "iopub.status.idle": "2020-11-03T11:30:01.617253Z",
     "shell.execute_reply": "2020-11-03T11:30:01.614914Z",
     "shell.execute_reply.started": "2020-11-03T11:30:01.431158Z"
    }
   },
   "outputs": [
    {
     "ename": "AssertionError",
     "evalue": "points are not ratios 1.5451016426086426, 5.947823524475098",
     "output_type": "error",
     "traceback": [
      "\u001b[0;31m---------------------------------------------------------------------------\u001b[0m",
      "\u001b[0;31mAssertionError\u001b[0m                            Traceback (most recent call last)",
      "\u001b[0;32m<ipython-input-48-369508f6a48e>\u001b[0m in \u001b[0;36m<module>\u001b[0;34m\u001b[0m\n\u001b[1;32m     11\u001b[0m \u001b[0;34m\u001b[0m\u001b[0m\n\u001b[1;32m     12\u001b[0m     \u001b[0mpred_pts\u001b[0m \u001b[0;34m=\u001b[0m \u001b[0mmt\u001b[0m\u001b[0;34m.\u001b[0m\u001b[0mto_points\u001b[0m\u001b[0;34m(\u001b[0m\u001b[0mapril_preds\u001b[0m\u001b[0;34m[\u001b[0m\u001b[0mi\u001b[0m\u001b[0;34m]\u001b[0m\u001b[0;34m)\u001b[0m\u001b[0;34m\u001b[0m\u001b[0;34m\u001b[0m\u001b[0m\n\u001b[0;32m---> 13\u001b[0;31m     \u001b[0mpts\u001b[0m \u001b[0;34m=\u001b[0m \u001b[0mapril_dataset\u001b[0m\u001b[0;34m.\u001b[0m\u001b[0mget_morph_pts\u001b[0m\u001b[0;34m(\u001b[0m\u001b[0mi\u001b[0m\u001b[0;34m,\u001b[0m \u001b[0mpred_pts\u001b[0m\u001b[0;34m)\u001b[0m\u001b[0;34m\u001b[0m\u001b[0;34m\u001b[0m\u001b[0m\n\u001b[0m\u001b[1;32m     14\u001b[0m     \u001b[0;31m# pts = np.vstack((pred_pts, corners))\u001b[0m\u001b[0;34m\u001b[0m\u001b[0;34m\u001b[0m\u001b[0;34m\u001b[0m\u001b[0m\n\u001b[1;32m     15\u001b[0m \u001b[0;31m#     my_types.assert_points(pts)\u001b[0m\u001b[0;34m\u001b[0m\u001b[0;34m\u001b[0m\u001b[0;34m\u001b[0m\u001b[0m\n",
      "\u001b[0;32m~/cs194-proj4/data.py\u001b[0m in \u001b[0;36mget_morph_pts\u001b[0;34m(self, idx, keypts)\u001b[0m\n\u001b[1;32m    677\u001b[0m         \u001b[0mpts\u001b[0m\u001b[0;34m[\u001b[0m\u001b[0;34m:\u001b[0m\u001b[0;34m,\u001b[0m \u001b[0;36m1\u001b[0m\u001b[0;34m]\u001b[0m \u001b[0;34m/=\u001b[0m \u001b[0;36m500\u001b[0m\u001b[0;34m\u001b[0m\u001b[0;34m\u001b[0m\u001b[0m\n\u001b[1;32m    678\u001b[0m \u001b[0;34m\u001b[0m\u001b[0m\n\u001b[0;32m--> 679\u001b[0;31m         \u001b[0massert_points\u001b[0m\u001b[0;34m(\u001b[0m\u001b[0mpts\u001b[0m\u001b[0;34m)\u001b[0m\u001b[0;34m\u001b[0m\u001b[0;34m\u001b[0m\u001b[0m\n\u001b[0m\u001b[1;32m    680\u001b[0m         \u001b[0;32mreturn\u001b[0m \u001b[0mpts\u001b[0m\u001b[0;34m\u001b[0m\u001b[0;34m\u001b[0m\u001b[0m\n",
      "\u001b[0;32m~/cs194-proj4/my_types.py\u001b[0m in \u001b[0;36massert_points\u001b[0;34m(pts, ratio)\u001b[0m\n\u001b[1;32m     21\u001b[0m             \u001b[0mcols\u001b[0m \u001b[0;34m=\u001b[0m \u001b[0mpts\u001b[0m\u001b[0;34m[\u001b[0m\u001b[0;34m:\u001b[0m\u001b[0;34m,\u001b[0m \u001b[0;36m1\u001b[0m\u001b[0;34m]\u001b[0m\u001b[0;34m\u001b[0m\u001b[0;34m\u001b[0m\u001b[0m\n\u001b[1;32m     22\u001b[0m             \u001b[0;31m# leave some wiggle room so use 1.5 instead of 1\u001b[0m\u001b[0;34m\u001b[0m\u001b[0;34m\u001b[0m\u001b[0;34m\u001b[0m\u001b[0m\n\u001b[0;32m---> 23\u001b[0;31m             assert (\n\u001b[0m\u001b[1;32m     24\u001b[0m                 \u001b[0mrows\u001b[0m\u001b[0;34m.\u001b[0m\u001b[0mmax\u001b[0m\u001b[0;34m(\u001b[0m\u001b[0;34m)\u001b[0m \u001b[0;34m<=\u001b[0m \u001b[0;36m1.5\u001b[0m \u001b[0;32mand\u001b[0m \u001b[0mcols\u001b[0m\u001b[0;34m.\u001b[0m\u001b[0mmax\u001b[0m\u001b[0;34m(\u001b[0m\u001b[0;34m)\u001b[0m \u001b[0;34m<=\u001b[0m \u001b[0;36m1.5\u001b[0m\u001b[0;34m\u001b[0m\u001b[0;34m\u001b[0m\u001b[0m\n\u001b[1;32m     25\u001b[0m             ), f\"points are not ratios {rows.max()}, {cols.max()}\"\n",
      "\u001b[0;31mAssertionError\u001b[0m: points are not ratios 1.5451016426086426, 5.947823524475098"
     ]
    }
   ],
   "source": [
    "import data, my_types\n",
    "import my_types as mt\n",
    "\n",
    "morph_imgs = []\n",
    "morph_pts = []\n",
    "corners = np.array([[0, 0], [0, 499/500], [499/500, 0], [499/500, 499/500]])\n",
    "# for i in range(len(april_dataset)):\n",
    "for i in [0, 1]:\n",
    "    im = mt.to_img_arr(april_dataset.get_morph_img(i))\n",
    "    morph_imgs.append(im)\n",
    "\n",
    "    pred_pts = mt.to_points(april_preds[i])\n",
    "    pts = april_dataset.get_morph_pts(i, pred_pts)\n",
    "    # pts = np.vstack((pred_pts, corners))\n",
    "#     my_types.assert_points(pts)\n",
    "    morph_pts.append(pts)\n",
    "    \n",
    "    print(im.shape)\n",
    "    show_keypoints(im, pts, color=True)\n",
    "\n",
    "\n",
    "middle, _, _ = morph.compute_middle_object(\n",
    "    morph_imgs[0], morph_imgs[1], morph_pts[0], morph_pts[1], alpha=0.5\n",
    ")\n",
    "plt.imshow(middle)"
   ]
  },
  {
   "cell_type": "code",
   "execution_count": null,
   "metadata": {},
   "outputs": [],
   "source": [
    "filename = OUT_DIR / f\"morph_{time.time()}.mp4\"\n",
    "\n",
    "me1, me2 = morph_imgs[0], morph_imgs[1]\n",
    "pts1, pts2 = morph_pts[0], morph_pts[1]\n",
    "# morph.compute_middle_object(me1, me2, pts1, pts2, alpha=0.5)\n",
    "# morph.compute_morph_video(me1, me2, pts1, pts2, filename)"
   ]
  }
 ],
 "metadata": {
  "kernelspec": {
   "display_name": "Python 3",
   "language": "python",
   "name": "python3"
  },
  "language_info": {
   "codemirror_mode": {
    "name": "ipython",
    "version": 3
   },
   "file_extension": ".py",
   "mimetype": "text/x-python",
   "name": "python",
   "nbconvert_exporter": "python",
   "pygments_lexer": "ipython3",
   "version": "3.8.5"
  }
 },
 "nbformat": 4,
 "nbformat_minor": 4
}
