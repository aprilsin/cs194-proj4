{
 "cells": [
  {
   "cell_type": "code",
   "execution_count": 22,
   "metadata": {
    "execution": {
     "iopub.execute_input": "2020-11-03T05:38:47.891208Z",
     "iopub.status.busy": "2020-11-03T05:38:47.890693Z",
     "iopub.status.idle": "2020-11-03T05:38:48.546369Z",
     "shell.execute_reply": "2020-11-03T05:38:48.545221Z",
     "shell.execute_reply.started": "2020-11-03T05:38:47.891122Z"
    }
   },
   "outputs": [],
   "source": [
    "import torch\n",
    "from data import MePicsSet\n",
    "import morph, utils, my_types\n",
    "from torch.utils.data import DataLoader\n",
    "from learn import test\n",
    "import time\n",
    "\n",
    "import matplotlib.pyplot as plt\n",
    "\n",
    "import morph\n",
    "import utils\n",
    "from IPython.display import Video"
   ]
  },
  {
   "cell_type": "code",
   "execution_count": 18,
   "metadata": {
    "execution": {
     "iopub.execute_input": "2020-11-03T05:38:57.883875Z",
     "iopub.status.busy": "2020-11-03T05:38:57.883439Z",
     "iopub.status.idle": "2020-11-03T05:38:57.889842Z",
     "shell.execute_reply": "2020-11-03T05:38:57.888618Z",
     "shell.execute_reply.started": "2020-11-03T05:38:57.883815Z"
    }
   },
   "outputs": [],
   "source": [
    "april_dataset = MePicsSet()\n",
    "april_loader = DataLoader(april_dataset, batch_size=8, shuffle=False)"
   ]
  },
  {
   "cell_type": "code",
   "execution_count": 19,
   "metadata": {},
   "outputs": [
    {
     "output_type": "stream",
     "name": "stdout",
     "text": [
      "['me_2002.jpg', 'me_2003.jpeg', 'me_2011_0.jpg', 'me_2011_1.jpg', 'me_2012.jpg', 'me_2013.jpg', 'me_2014_2.jpg', 'me_2015.jpg', 'me_2016.jpg', 'me_2017_0.jpg', 'me_2017_1.jpg', 'me_2018.jpg', 'me_2019_0.jpg', 'me_2019_1.jpg', 'me_2020_0.jpg', 'me_2020_1.jpg']\n"
     ]
    }
   ],
   "source": [
    "img_names = [sample.get_name() for sample in april_dataset.samples]\n",
    "print(img_names)"
   ]
  },
  {
   "cell_type": "code",
   "execution_count": 20,
   "metadata": {
    "execution": {
     "iopub.execute_input": "2020-11-03T05:39:20.547930Z",
     "iopub.status.busy": "2020-11-03T05:39:20.547485Z",
     "iopub.status.idle": "2020-11-03T05:39:20.569546Z",
     "shell.execute_reply": "2020-11-03T05:39:20.568531Z",
     "shell.execute_reply.started": "2020-11-03T05:39:20.547871Z"
    }
   },
   "outputs": [],
   "source": [
    "model3 = torch.load(\"output/model3.pt\", map_location=\"cpu\")"
   ]
  },
  {
   "cell_type": "code",
   "execution_count": 21,
   "metadata": {
    "execution": {
     "iopub.execute_input": "2020-11-03T05:42:11.637965Z",
     "iopub.status.busy": "2020-11-03T05:42:11.637431Z",
     "iopub.status.idle": "2020-11-03T05:42:11.649607Z",
     "shell.execute_reply": "2020-11-03T05:42:11.648242Z",
     "shell.execute_reply.started": "2020-11-03T05:42:11.637878Z"
    }
   },
   "outputs": [
    {
     "output_type": "stream",
     "name": "stderr",
     "text": [
      "100%|██████████| 2/2 [00:02<00:00,  1.13s/it]\n"
     ]
    }
   ],
   "source": [
    "april_imgs, april_preds = test(april_loader, model3)"
   ]
  },
  {
   "cell_type": "code",
   "execution_count": null,
   "metadata": {},
   "outputs": [],
   "source": [
    "for i, p in zip(april_imgs, april_preds):\n",
    "    show_keypoints(image=i, truth_points=None, pred_points=p)"
   ]
  },
  {
   "cell_type": "code",
   "execution_count": null,
   "metadata": {},
   "outputs": [],
   "source": [
    "morph_imgs = []\n",
    "morph_pts = []\n",
    "corners = np.array([[0, 0], [0, 499], [499, 0], [499, 499]])\n",
    "for i in range(len(april_dataset)):\n",
    "\n",
    "    im = utils.to_img_arr(april_dataset.get_original_img(i, cropped=True))\n",
    "    #     print(im.shape)\n",
    "    morph_imgs.append(im)\n",
    "    # TODO add corners\n",
    "    pred_pts = utils.to_points(april_preds[i])\n",
    "    pts = np.vstack((pred_pts, corners))\n",
    "    #     print(len(pts))\n",
    "    morph_pts.append(pts)"
   ]
  },
  {
   "cell_type": "code",
   "execution_count": null,
   "metadata": {},
   "outputs": [],
   "source": [
    "# plt.imshow(img)\n",
    "middle, mid_pts, del_tri = morph.compute_middle_object(\n",
    "    morph_imgs[0], morph_imgs[1], morph_pts[0], morph_pts[1], alpha=0.5\n",
    ")\n",
    "plt.imshow(middle)\n",
    "warped1 = morph.warp_img(morph_imgs[0], morph_imgs[1], morph_pts[0], morph_pts[1], alpha=0.5\n",
    ")"
   ]
  },
  {
   "cell_type": "code",
   "execution_count": null,
   "metadata": {},
   "outputs": [],
   "source": [
    "filename = OUT_DIR / f\"morph_{time.time()}.mp4\"\n",
    "\n",
    "me1, me2 = morph_imgs[0], morph_imgs[1]\n",
    "pts1, pts2 = morph_pts[0], morph_pts[1]\n",
    "# morph.compute_middle_object(me1, me2, pts1, pts2, alpha=0.5)\n",
    "# morph.compute_morph_video(me1, me2, pts1, pts2, filename)"
   ]
  },
  {
   "cell_type": "code",
   "execution_count": null,
   "metadata": {},
   "outputs": [],
   "source": [
    "filename = OUT_DIR / \"morph_all.mp4\"\n",
    "morph.make_giant_video(morph_imgs, morph_pts, fps=25, filename=filename)\n"
   ]
  },
  {
   "cell_type": "code",
   "execution_count": null,
   "metadata": {},
   "outputs": [],
   "source": [
    "Video(\"output/morph_all.mp4\")"
   ]
  }
 ],
 "metadata": {
  "kernelspec": {
   "display_name": "Python 3",
   "language": "python",
   "name": "python3"
  },
  "language_info": {
   "codemirror_mode": {
    "name": "ipython",
    "version": 3
   },
   "file_extension": ".py",
   "mimetype": "text/x-python",
   "name": "python",
   "nbconvert_exporter": "python",
   "pygments_lexer": "ipython3",
   "version": "3.8.3-final"
  }
 },
 "nbformat": 4,
 "nbformat_minor": 4
}