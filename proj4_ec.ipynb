{
 "cells": [
  {
   "cell_type": "code",
   "execution_count": 1,
   "metadata": {
    "execution": {
     "iopub.execute_input": "2020-11-03T05:38:47.891208Z",
     "iopub.status.busy": "2020-11-03T05:38:47.890693Z",
     "iopub.status.idle": "2020-11-03T05:38:48.546369Z",
     "shell.execute_reply": "2020-11-03T05:38:48.545221Z",
     "shell.execute_reply.started": "2020-11-03T05:38:47.891122Z"
    }
   },
   "outputs": [],
   "source": [
    "import torch"
   ]
  },
  {
   "cell_type": "code",
   "execution_count": 2,
   "metadata": {
    "execution": {
     "iopub.execute_input": "2020-11-03T05:38:57.883875Z",
     "iopub.status.busy": "2020-11-03T05:38:57.883439Z",
     "iopub.status.idle": "2020-11-03T05:38:57.889842Z",
     "shell.execute_reply": "2020-11-03T05:38:57.888618Z",
     "shell.execute_reply.started": "2020-11-03T05:38:57.883815Z"
    }
   },
   "outputs": [],
   "source": [
    "t = torch.rand(3, 4)"
   ]
  },
  {
   "cell_type": "code",
   "execution_count": 4,
   "metadata": {
    "execution": {
     "iopub.execute_input": "2020-11-03T05:39:20.547930Z",
     "iopub.status.busy": "2020-11-03T05:39:20.547485Z",
     "iopub.status.idle": "2020-11-03T05:39:20.569546Z",
     "shell.execute_reply": "2020-11-03T05:39:20.568531Z",
     "shell.execute_reply.started": "2020-11-03T05:39:20.547871Z"
    }
   },
   "outputs": [
    {
     "data": {
      "text/plain": [
       "tensor([[0.2483, 0.7390, 0.8582],\n",
       "        [0.3215, 0.8870, 0.2871],\n",
       "        [0.2887, 0.5664, 0.2973],\n",
       "        [0.2791, 0.4494, 0.9182]])"
      ]
     },
     "execution_count": 4,
     "metadata": {},
     "output_type": "execute_result"
    }
   ],
   "source": [
    "t.permute(0,-1)"
   ]
  },
  {
   "cell_type": "code",
   "execution_count": 6,
   "metadata": {
    "execution": {
     "iopub.execute_input": "2020-11-03T05:42:11.637965Z",
     "iopub.status.busy": "2020-11-03T05:42:11.637431Z",
     "iopub.status.idle": "2020-11-03T05:42:11.649607Z",
     "shell.execute_reply": "2020-11-03T05:42:11.648242Z",
     "shell.execute_reply.started": "2020-11-03T05:42:11.637878Z"
    }
   },
   "outputs": [
    {
     "data": {
      "text/plain": [
       "2"
      ]
     },
     "execution_count": 6,
     "metadata": {},
     "output_type": "execute_result"
    }
   ],
   "source": [
    "t.ndim"
   ]
  }
 ],
 "metadata": {
  "kernelspec": {
   "display_name": "Python 3",
   "language": "python",
   "name": "python3"
  },
  "language_info": {
   "codemirror_mode": {
    "name": "ipython",
    "version": 3
   },
   "file_extension": ".py",
   "mimetype": "text/x-python",
   "name": "python",
   "nbconvert_exporter": "python",
   "pygments_lexer": "ipython3",
   "version": "3.8.5"
  }
 },
 "nbformat": 4,
 "nbformat_minor": 4
}
